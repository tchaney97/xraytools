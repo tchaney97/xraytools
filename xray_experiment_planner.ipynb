{
 "cells": [
  {
   "cell_type": "markdown",
   "id": "354cbc44-0801-4248-88a3-09eb71cfd094",
   "metadata": {},
   "source": [
    "# Imports"
   ]
  },
  {
   "cell_type": "code",
   "execution_count": null,
   "id": "596af690-c204-44db-a78d-b0136108540c",
   "metadata": {},
   "outputs": [],
   "source": [
    "import numpy as np\n",
    "from prettytable import PrettyTable\n",
    "import matplotlib.pyplot as plt\n",
    "from matplotlib.pyplot import subplots\n",
    "import xraydb\n",
    "\n",
    "# # If you dont have xraytools.py in this folder:\n",
    "# import sys\n",
    "# script_dir = 'path-to-dir-with-.py-script'\n",
    "# sys.path.append(script_dir)\n",
    "import xraytools\n",
    "#iPython magic to make interactive plots work\n",
    "%matplotlib widget"
   ]
  },
  {
   "cell_type": "markdown",
   "id": "4813de14-e9be-4265-b62b-e25bc0ca88ed",
   "metadata": {},
   "source": [
    "# Sample Detector Distance Calculators"
   ]
  },
  {
   "cell_type": "markdown",
   "id": "069ee1ae-4096-480b-9523-6f6a3d1097b4",
   "metadata": {},
   "source": [
    "Given a maximum q-value how far away can I put my detector?"
   ]
  },
  {
   "cell_type": "code",
   "execution_count": null,
   "id": "87b3253e-d86e-4dab-a8c5-da2c97319791",
   "metadata": {},
   "outputs": [],
   "source": [
    "### User Inputs ###\n",
    "length_y = 180 # (mm) total detector height (including detector gaps)\n",
    "length_x = 170 # (mm) total detector width (including detector gaps)\n",
    "energy = 16100 # (eV) Energy of X-rays\n",
    "max_q = 0.8 # maximum q you would like to reach\n",
    "\n",
    "### Calculations ###\n",
    "xraytools.calc_sdd(length_y, length_x, energy, max_q)"
   ]
  },
  {
   "cell_type": "markdown",
   "id": "ff665b31-9677-4432-ac90-5c8243b2f352",
   "metadata": {},
   "source": [
    "Given an SDD and beam position what is the max q I will be able to detect?"
   ]
  },
  {
   "cell_type": "code",
   "execution_count": null,
   "id": "597cdd4b-7e7d-4b8a-a947-31a880bec0e1",
   "metadata": {},
   "outputs": [],
   "source": [
    "### User Inputs ###\n",
    "length_y = 180 # (mm) total detector height (including detector gaps)\n",
    "length_x = 170 # (mm) total detector width (including detector gaps)\n",
    "energy = 16100 # (eV) Energy of X-rays\n",
    "sdd = 8200 # (mm) sample detector distance\n",
    "bs_radius = 1 # (mm) radius of beamstop or minimum radius from beam center to acheive good data\n",
    "\n",
    "xraytools.calc_qrange(length_y, length_x, bs_radius, energy, sdd)"
   ]
  },
  {
   "cell_type": "markdown",
   "id": "1afcde6e-4999-424e-96a6-f4d453f164db",
   "metadata": {},
   "source": [
    "# Critical Angle Calculators"
   ]
  },
  {
   "cell_type": "markdown",
   "id": "2bd30716-f948-4f90-b959-af672f25ddb4",
   "metadata": {},
   "source": [
    "Calculate a single critical angle"
   ]
  },
  {
   "cell_type": "code",
   "execution_count": null,
   "id": "a90df1b9-aeb1-4e5f-9bce-11d8f556373f",
   "metadata": {},
   "outputs": [],
   "source": [
    "stoichiometry = 'BN'\n",
    "density = 2.1 #g/cc\n",
    "energy = 13500 #eV\n",
    "crit_angle = xraytools.calc_critical_angle(energy, stoichiometry, density)\n",
    "crit_angle"
   ]
  },
  {
   "cell_type": "markdown",
   "id": "cae90900-c39d-4b4d-bb59-75b44d771190",
   "metadata": {},
   "source": [
    "Calculate a critical angles for many energies and materials"
   ]
  },
  {
   "cell_type": "code",
   "execution_count": null,
   "id": "4e09e722-1ae6-4bf0-a650-06951aff15ff",
   "metadata": {},
   "outputs": [],
   "source": [
    "energies = np.linspace(8000,10000,5) #energies of interest in eV\n",
    "stoichiometries = ['C2H4','Si']\n",
    "densities = [1, 2.33] #g/cc\n",
    "crit_angles = xraytools.calc_critical_angle_table(energies, stoichiometries, densities)"
   ]
  },
  {
   "cell_type": "markdown",
   "id": "7dde2370-b2e7-46bd-a3cd-d92c06e81b89",
   "metadata": {},
   "source": [
    "# XEFI Calculator\n",
    "Calculates and plots the x-ray electric field intensity (norm squared of electric field) as a function of film depth and incident angle.\n",
    "\n",
    "Assumes no roughness and completely homogenous index of refraction in the film. Multi-layer films and roughness to be added later."
   ]
  },
  {
   "cell_type": "code",
   "execution_count": null,
   "id": "afdbdf06-d128-4120-9726-c2d12b820ca7",
   "metadata": {},
   "outputs": [],
   "source": [
    "# Example cell calculating and plotting XEFI for a PM6 film on Si:\n",
    "plt.close('all')\n",
    "energy = 12700  # eV of GIWAXS data\n",
    "film_stoichiometry = 'C41H53FO4S4'  # PTB7 stoichiometry\n",
    "sub_stoichiometry = 'Si'  # on silicon substrate\n",
    "film_density = 1.12  # ~ density of PM6\n",
    "sub_density = 2.33  # density of Si\n",
    "sampthick = 100  # set film thickness\n",
    "aois = np.linspace(0.08, 0.18, 500) # set incident angles\n",
    "\n",
    "aois, depth, xefi = xraytools.calc_xefi(energy, \n",
    "                                    film_stoichiometry, \n",
    "                                    film_density, \n",
    "                                    sub_stoichiometry, \n",
    "                                    sub_density,\n",
    "                                    sampthick, \n",
    "                                    aois,\n",
    "                                    plot=True)"
   ]
  },
  {
   "cell_type": "markdown",
   "id": "66d99274-7279-4987-9be0-e4b84a7fac0c",
   "metadata": {},
   "source": [
    "# Yoneda peak q-position calculator"
   ]
  },
  {
   "cell_type": "code",
   "execution_count": null,
   "id": "afa2438e-975a-4468-b14c-9ef955f990f6",
   "metadata": {},
   "outputs": [],
   "source": [
    "stoichiometry = 'C2H4'\n",
    "density = 1 #g/cc\n",
    "energy = 13500 #eV\n",
    "incident_deg = 0.15 #deg\n",
    "q_val = xraytools.calc_yoneda_material(incident_deg, energy, stoichiometry, density)"
   ]
  },
  {
   "cell_type": "markdown",
   "id": "ef77dc1c-41dc-4abc-ab06-0af0b967234a",
   "metadata": {},
   "source": [
    "# X-ray edges lookup\n",
    "Get all X-ray edges for a given element"
   ]
  },
  {
   "cell_type": "code",
   "execution_count": null,
   "id": "283e5062-896f-4544-9125-a71ddcf4ac5c",
   "metadata": {},
   "outputs": [],
   "source": [
    "edges = xraytools.find_xray_edges('Pb')"
   ]
  },
  {
   "cell_type": "markdown",
   "id": "9f50e2a6-e121-4854-aa16-8417376abc40",
   "metadata": {},
   "source": [
    "# Material Attenuation and Transmission Calculators\n",
    "These calculators will take your given material stack of stoichiometries and densities to calculate attenuation length or transmission"
   ]
  },
  {
   "cell_type": "markdown",
   "id": "b320fa38-1a7b-4075-937b-36785a69fb9b",
   "metadata": {},
   "source": [
    "### Calculate Material(s) Attenuation Lengths"
   ]
  },
  {
   "cell_type": "code",
   "execution_count": null,
   "id": "a0cfac21-ec93-4a54-960d-d9bb2b8026dc",
   "metadata": {},
   "outputs": [],
   "source": [
    "energies = np.linspace(12000,24000,13) #energies of interest in eV\n",
    "stoichiometries = ['C2H4','Si']\n",
    "densities = [1, 2.33] #g/cc\n",
    "xraytools.calc_mu_grid(energies, stoichiometries, densities, table=True, plot=True)"
   ]
  },
  {
   "cell_type": "markdown",
   "id": "b207f580-917d-4992-a4f1-499bdda8ab78",
   "metadata": {},
   "source": [
    "### Calculate Material(s) X-ray Transmission"
   ]
  },
  {
   "cell_type": "code",
   "execution_count": null,
   "id": "5ca66652-551b-408f-8f5e-b39e134e11e9",
   "metadata": {},
   "outputs": [],
   "source": [
    "energies = np.linspace(12000,24000,13) #energies of interest in eV\n",
    "stoichiometries = ['C2H4','Si']\n",
    "densities = [1, 2.33] #g/cc\n",
    "thicknesses = [.373, .101] #thicknesses in mm\n",
    "xraytools.calc_transmission_grid(energies, stoichiometries, densities, thicknesses, verbose=True, table=True, plot=True)"
   ]
  },
  {
   "cell_type": "markdown",
   "id": "c4d01c59-757b-4fc5-9d4f-26e930938a7a",
   "metadata": {},
   "source": [
    "# Solution Transmission Calculator\n",
    "This calculator will take your given solvent and solute chemistry along with the mass/volume of solute added to calculate transmission\n",
    "\n",
    "*Note: this calculator assumes you were lazy when you made your solution and reported concentration as milligrams added over ml of solvent. If you made the solution rigorously then this calculator will be slightly off*"
   ]
  },
  {
   "cell_type": "code",
   "execution_count": null,
   "id": "723e65d7-79b5-4d27-b1c8-15c60144d357",
   "metadata": {},
   "outputs": [],
   "source": [
    "energies = np.linspace(12000,24000,10) \n",
    "solvent_stoich =  'C2H6OS'\n",
    "solvent_dens =  1.1\n",
    "solute_stoich =  'PbI2'\n",
    "solute_dens =  6.16\n",
    "mg_per_ml =  100 #mg/ml\n",
    "cap_diam = 1 #mm\n",
    "xraytools.calc_solution_transmission(energies, solvent_stoich, solvent_dens, solute_stoich, solute_dens, mg_per_ml, cap_diam, table=True, plot=False)"
   ]
  }
 ],
 "metadata": {
  "kernelspec": {
   "display_name": "Python 3 (ipykernel)",
   "language": "python",
   "name": "python3"
  },
  "language_info": {
   "codemirror_mode": {
    "name": "ipython",
    "version": 3
   },
   "file_extension": ".py",
   "mimetype": "text/x-python",
   "name": "python",
   "nbconvert_exporter": "python",
   "pygments_lexer": "ipython3",
   "version": "3.10.13"
  },
  "toc-autonumbering": false
 },
 "nbformat": 4,
 "nbformat_minor": 5
}
